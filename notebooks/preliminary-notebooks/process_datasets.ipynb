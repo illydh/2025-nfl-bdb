{
  "nbformat": 4,
  "nbformat_minor": 0,
  "metadata": {
    "colab": {
      "provenance": [],
      "machine_shape": "hm"
    },
    "kernelspec": {
      "name": "python3",
      "display_name": "Python 3"
    },
    "language_info": {
      "name": "python"
    }
  },
  "cells": [
    {
      "cell_type": "code",
      "execution_count": 1,
      "metadata": {
        "colab": {
          "base_uri": "https://localhost:8080/"
        },
        "id": "HV5tVwrd0WHZ",
        "outputId": "6a22691d-a1ca-4b20-84f7-59681c38c1a1"
      },
      "outputs": [
        {
          "output_type": "stream",
          "name": "stdout",
          "text": [
            "Mounted at /content/drive\n"
          ]
        }
      ],
      "source": [
        "#@title Run this cell to mount Google Drive and get `kaggle.json` from personal directory\n",
        "\n",
        "from google.colab import drive\n",
        "drive.mount('/content/drive')"
      ]
    },
    {
      "cell_type": "code",
      "source": [
        "#@title Importing Dependencies\n",
        "\n",
        "import multiprocessing as mp\n",
        "import pickle\n",
        "import time\n",
        "from pathlib import Path\n",
        "\n",
        "import numpy as np\n",
        "import pandas as pd\n",
        "import polars as pl\n",
        "from torch.utils.data import Dataset\n",
        "from tqdm import tqdm\n",
        "\n",
        "\n",
        "# TEMPORARY CHANGE\n",
        "PREPPED_DATA_DIR = Path(\"./drive/My Drive/bdb-2025/prepped_data/split\")\n",
        "DATASET_DIR = Path(\"./drive/My Drive/bdb-2025/working/datasets/\")"
      ],
      "metadata": {
        "id": "xMgcyb2207Yd"
      },
      "execution_count": 2,
      "outputs": []
    },
    {
      "cell_type": "code",
      "source": [
        "# Enumerate player positions\n",
        "POSITIONS_ENUM = {\n",
        "    'C': 0,\n",
        "    'CB': 1,\n",
        "    'DE': 2,\n",
        "    'DT': 3,\n",
        "    'FB': 4,\n",
        "    'FS': 5,\n",
        "    'G': 6,\n",
        "    'ILB': 7,\n",
        "    'LB': 8,\n",
        "    'MLB': 9,\n",
        "    'NT': 10,\n",
        "    'OLB': 11,\n",
        "    'QB': 12,\n",
        "    'RB': 13,\n",
        "    'SS': 14,\n",
        "    'T': 15,\n",
        "    'TE': 16,\n",
        "    'WR': 17\n",
        "}"
      ],
      "metadata": {
        "id": "4GV0aj0USLrT"
      },
      "execution_count": 3,
      "outputs": []
    },
    {
      "cell_type": "markdown",
      "source": [
        "# Step: Processing Data\n",
        "\n"
      ],
      "metadata": {
        "id": "XLkUiGhG0tba"
      }
    },
    {
      "cell_type": "code",
      "source": [
        "class BDB2025_Dataset(Dataset):\n",
        "    \"\"\"\n",
        "    Custom dataset class for NFL tracking data.\n",
        "\n",
        "    This class preprocesses and stores NFL tracking data for use in machine learning models.\n",
        "\n",
        "    Attributes:\n",
        "        model_type (str): Type of model ('transformer')\n",
        "        keys (list): List of unique identifiers for each data point\n",
        "        feature_df_partition (pd.DataFrame): Preprocessed feature data\n",
        "        tgt_df_partition (pd.DataFrame): Preprocessed target data\n",
        "        tgt_arrays (dict): Precomputed target arrays\n",
        "        feature_arrays (dict): Precomputed feature arrays\n",
        "    \"\"\"\n",
        "\n",
        "    def __init__(\n",
        "        self,\n",
        "        model_type: str,\n",
        "        feature_df: pl.DataFrame,\n",
        "        tgt_df: pl.DataFrame,\n",
        "    ):\n",
        "        \"\"\"\n",
        "        Initialize the dataset.\n",
        "\n",
        "        Args:\n",
        "            model_type (str): Type of model ('transformer')\n",
        "            feature_df (pl.DataFrame): DataFrame containing feature data\n",
        "            tgt_df (pl.DataFrame): DataFrame containing target data\n",
        "\n",
        "        Raises:\n",
        "            ValueError: If an invalid model_type is provided\n",
        "        \"\"\"\n",
        "        if model_type not in [\"transformer\"]:\n",
        "            raise ValueError(\"model_type must be 'transformer'\")\n",
        "\n",
        "        self.model_type = model_type\n",
        "        self.keys = list(\n",
        "            feature_df.select([\"gameId\", \"playId\", \"frameId\", \"maskedId\"]).unique().rows()\n",
        "        )\n",
        "\n",
        "        # Convert to pandas form with index for quick row retrieval\n",
        "        self.feature_df_partition = (\n",
        "            feature_df.to_pandas(use_pyarrow_extension_array=True)\n",
        "            .set_index([\"gameId\", \"playId\", \"frameId\", \"maskedId\", \"nflId\"])\n",
        "            .sort_index()\n",
        "        )\n",
        "        self.tgt_df_partition = (\n",
        "            tgt_df.to_pandas(use_pyarrow_extension_array=True)\n",
        "            .set_index([\"gameId\", \"playId\", \"frameId\", \"maskedId\"])\n",
        "            .sort_index()\n",
        "        )\n",
        "\n",
        "        # Precompute features and store in dicts\n",
        "        self.tgt_arrays: dict[tuple, np.ndarray] = {}\n",
        "        self.feature_arrays: dict[tuple, np.ndarray] = {}\n",
        "        with mp.Pool(processes=min(8, mp.cpu_count())) as pool:\n",
        "            results = pool.map(\n",
        "                self.process_key,\n",
        "                tqdm(\n",
        "                    self.keys,\n",
        "                    desc=\"Pre-computing feature transforms\",\n",
        "                    total=len(self.keys),\n",
        "                ),\n",
        "            )\n",
        "            # Unpack results\n",
        "            for key, tgt_array, feature_array in results:\n",
        "                self.tgt_arrays[key] = tgt_array\n",
        "                self.feature_arrays[key] = feature_array\n",
        "\n",
        "    def process_key(self, key: tuple) -> tuple[tuple, np.ndarray, np.ndarray]:\n",
        "        \"\"\"\n",
        "        Process a single key to generate target and feature arrays.\n",
        "\n",
        "        Args:\n",
        "            key (tuple): Key (gameId, playId, mirrored, frameId) identifying a specific data point\n",
        "\n",
        "        Returns:\n",
        "            tuple[tuple, np.ndarray, np.ndarray]: Processed key, target array, and feature array\n",
        "        \"\"\"\n",
        "        tgt_array = self.transform_target_df(self.tgt_df_partition.loc[key])\n",
        "        feature_array = self.transform_input_frame_df(\n",
        "            self.feature_df_partition.loc[key]\n",
        "        )\n",
        "        return key, tgt_array, feature_array\n",
        "\n",
        "    def __len__(self) -> int:\n",
        "        \"\"\"\n",
        "        Get the length of the dataset.\n",
        "\n",
        "        Returns:\n",
        "            int: Number of samples in the dataset\n",
        "        \"\"\"\n",
        "        return len(self.keys)\n",
        "\n",
        "    def __getitem__(self, idx: int) -> tuple[np.ndarray, np.ndarray]:\n",
        "        \"\"\"\n",
        "        Get a single item from the dataset.\n",
        "\n",
        "        Args:\n",
        "            idx (int): Index of the item to retrieve\n",
        "\n",
        "        Returns:\n",
        "            tuple[np.ndarray, np.ndarray]: Feature array and target array for the specified index\n",
        "\n",
        "        Raises:\n",
        "            IndexError: If the index is out of range\n",
        "        \"\"\"\n",
        "        if idx < 0 or idx >= len(self):\n",
        "            raise IndexError(\"Index out of range\")\n",
        "        key = self.keys[idx]\n",
        "        return self.feature_arrays[key], self.tgt_arrays[key]\n",
        "\n",
        "    def transform_input_frame_df(self, frame_df: pd.DataFrame) -> np.ndarray:\n",
        "        \"\"\"\n",
        "        Transform input frame DataFrame to numpy array based on model type.\n",
        "\n",
        "        Args:\n",
        "            frame_df (pd.DataFrame): Input frame DataFrame\n",
        "\n",
        "        Returns:\n",
        "            np.ndarray: Transformed input features\n",
        "\n",
        "        Raises:\n",
        "            ValueError: If an unknown model type is specified\n",
        "        \"\"\"\n",
        "\n",
        "        return self.transformer_transform_input_frame_df(frame_df)\n",
        "\n",
        "    def transform_target_df(self, tgt_df: pd.DataFrame) -> np.ndarray:\n",
        "        \"\"\"\n",
        "        Transform target DataFrame to numpy array.\n",
        "        Args:\n",
        "            tgt_df (pd.DataFrame): Target DataFrame\n",
        "        Returns:\n",
        "            np.ndarray: Transformed target values as one-hot encoded array\n",
        "        \"\"\"\n",
        "        # Encoding position of masked player\n",
        "        position_idx = np.array(\n",
        "            POSITIONS_ENUM[tgt_df[\"position\"]]\n",
        "        ).flatten()  #   encode this position\n",
        "\n",
        "        # Get player coordinate targets\n",
        "        x_tgt = np.array(tgt_df[\"x\"]).flatten()\n",
        "        y_tgt = np.array(tgt_df[\"y\"]).flatten()\n",
        "\n",
        "        tgts = [position_idx, x_tgt, y_tgt]\n",
        "        y = np.concatenate(tgts, dtype=np.float32)\n",
        "        assert y.shape == (\n",
        "            len(tgts),\n",
        "        ), f\"Expected y.shape ({len(tgts)}, ), got {y.shape}\"\n",
        "        return y\n",
        "\n",
        "    def transformer_transform_input_frame_df(\n",
        "        self, frame_df: pd.DataFrame\n",
        "    ) -> np.ndarray:\n",
        "        \"\"\"\n",
        "        Transform input frame DataFrame for transformer model.\n",
        "\n",
        "        Args:\n",
        "            frame_df (pd.DataFrame): Input frame DataFrame\n",
        "\n",
        "        Returns:\n",
        "            np.ndarray: Transformed input features for transformer model\n",
        "\n",
        "        Raises:\n",
        "            AssertionError: If the output shape is not as expected\n",
        "        \"\"\"\n",
        "\n",
        "        assert len(frame_df) == 21, \"NOT THE SAME LEN\"\n",
        "\n",
        "        position_idx = []\n",
        "        # Create one-hot encoding with prefix\n",
        "        for pos in frame_df[\"position\"]:\n",
        "            if pos not in POSITIONS_ENUM.keys():\n",
        "                POSITIONS_ENUM[pos] = len(POSITIONS_ENUM)\n",
        "            position_idx.append(POSITIONS_ENUM[pos])\n",
        "        position_idx = np.array(position_idx)  # Convert list to NumPy array\n",
        "        x_feature, y_feature = (\n",
        "            np.array(frame_df[\"x\"]).flatten(),\n",
        "            np.array(frame_df[\"y\"]).flatten(),\n",
        "        )\n",
        "\n",
        "        # Reshape features to have the same first dimension\n",
        "        position_idx = np.array(position_idx).reshape(\n",
        "            len(frame_df), -1\n",
        "        )  # Reshape to (1, num_positions)\n",
        "        x_feature = x_feature.reshape(len(frame_df), 1)\n",
        "        y_feature = y_feature.reshape(len(frame_df), 1)\n",
        "\n",
        "        features = [position_idx, x_feature, y_feature]\n",
        "        x = np.concatenate(features, dtype=np.float32, axis=1)\n",
        "\n",
        "        assert x.shape == (\n",
        "            21,\n",
        "            len(features),\n",
        "        ), f\"Expected x.shape (21, {len(features)}), got {x.shape}\"\n",
        "        return x\n"
      ],
      "metadata": {
        "id": "a0pT893uCrTc"
      },
      "execution_count": 8,
      "outputs": []
    },
    {
      "cell_type": "code",
      "source": [
        "def main():\n",
        "    \"\"\"\n",
        "    Main function to create and save datasets for different model types and splits.\n",
        "    \"\"\"\n",
        "    for split in [\"test\", \"val\", \"train\"]:\n",
        "        feature_df = pl.read_parquet(PREPPED_DATA_DIR / f\"{split}_features.parquet\")\n",
        "        tgt_df = pl.read_parquet(PREPPED_DATA_DIR / f\"{split}_targets.parquet\")\n",
        "        for model_type in [\"transformer\"]:\n",
        "            print(f\"Creating dataset for {model_type=}, {split=}...\")\n",
        "            tic = time.time()\n",
        "            dataset = BDB2025_Dataset(model_type, feature_df, tgt_df)\n",
        "            out_dir = DATASET_DIR / model_type\n",
        "            out_dir.mkdir(exist_ok=True, parents=True)\n",
        "            with open(out_dir / f\"{split}_dataset.pkl\", \"wb\") as f:\n",
        "                pickle.dump(dataset, f)\n",
        "            print(f\"Took {(time.time() - tic)/60:.1f} mins\")\n",
        "\n",
        "main()"
      ],
      "metadata": {
        "colab": {
          "base_uri": "https://localhost:8080/"
        },
        "id": "W7aC2StdV_XQ",
        "outputId": "a6cb7571-12fe-49f1-fef3-10ab91c987e1"
      },
      "execution_count": 9,
      "outputs": [
        {
          "output_type": "stream",
          "name": "stdout",
          "text": [
            "Creating dataset for model_type='transformer', split='test'...\n"
          ]
        },
        {
          "output_type": "stream",
          "name": "stderr",
          "text": [
            "Pre-computing feature transforms: 100%|██████████| 307934/307934 [01:09<00:00, 4435.61it/s]\n"
          ]
        },
        {
          "output_type": "stream",
          "name": "stdout",
          "text": [
            "Took 1.6 mins\n",
            "Creating dataset for model_type='transformer', split='val'...\n"
          ]
        },
        {
          "output_type": "stream",
          "name": "stderr",
          "text": [
            "Pre-computing feature transforms: 100%|██████████| 296219/296219 [01:08<00:00, 4355.75it/s]\n"
          ]
        },
        {
          "output_type": "stream",
          "name": "stdout",
          "text": [
            "Took 1.5 mins\n",
            "Creating dataset for model_type='transformer', split='train'...\n"
          ]
        },
        {
          "output_type": "stream",
          "name": "stderr",
          "text": [
            "Pre-computing feature transforms: 100%|██████████| 1429714/1429714 [06:13<00:00, 3832.06it/s]\n"
          ]
        },
        {
          "output_type": "stream",
          "name": "stdout",
          "text": [
            "Took 8.2 mins\n"
          ]
        }
      ]
    },
    {
      "cell_type": "code",
      "source": [],
      "metadata": {
        "id": "xQxUnwB1_JdK"
      },
      "execution_count": 9,
      "outputs": []
    }
  ]
}